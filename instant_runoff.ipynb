{
 "cells": [
  {
   "cell_type": "code",
   "execution_count": 128,
   "metadata": {},
   "outputs": [],
   "source": [
    "import pandas as pd\n",
    "import numpy as np\n",
    "from typing import Dict, Tuple\n",
    "from os import PathLike, mkdir\n",
    "fpath = \"sample_sheet.csv\""
   ]
  },
  {
   "cell_type": "code",
   "execution_count": 129,
   "metadata": {},
   "outputs": [],
   "source": [
    "class Ballot(object):\n",
    "    \n",
    "    def __init__(self, votes: list):\n",
    "        self.votes = [0] * len(votes)\n",
    "        for i, v in enumerate(votes):\n",
    "            self.votes[int(v) - 1] = i\n",
    "        \n",
    "    def vote(self) -> int:\n",
    "        return self.votes[0]\n",
    "    \n",
    "    def vote_n(self, n: int) -> int:\n",
    "        return self.votes[n]\n",
    "    \n",
    "    def runoff(self, n: int):\n",
    "        self.votes.remove(n)"
   ]
  },
  {
   "cell_type": "code",
   "execution_count": 130,
   "metadata": {},
   "outputs": [],
   "source": [
    "def load_csv(path: PathLike) -> Tuple[Dict[int, str], np.array]:\n",
    "    \"\"\"Loads in a Qualtrics spreadsheet and returns its info.\n",
    "    \n",
    "    Accepts a path to a spreadsheet, and loads it in. It will then return\n",
    "    a dictionary associating vote numbers to names, and an array with votes.\n",
    "    TODO: rewrite without numpy or pandas\n",
    "    \"\"\"\n",
    "    # reads in data, and creates array of votes\n",
    "    data = np.array(pd.read_csv(path))\n",
    "    votes = data[2:, 17:]\n",
    "    \n",
    "    # creates names dictionary\n",
    "    temp_names = data[0][17:]\n",
    "    names = {}\n",
    "    for i, val in enumerate(temp_names):\n",
    "        names[i] = val.split(\" - \")[-1]\n",
    "    \n",
    "    return names, votes"
   ]
  },
  {
   "cell_type": "code",
   "execution_count": 131,
   "metadata": {},
   "outputs": [],
   "source": [
    "def main(path):\n",
    "    \n",
    "    names, votes = load_csv(path)\n",
    "    ballots = []\n",
    "    n = len(votes)\n",
    "    \n",
    "    for v in votes:\n",
    "        ballots.append(Ballot(v))\n",
    "        \n",
    "    cast = {}\n",
    "    for v in range(len(names)):\n",
    "        cast[v] = 0\n",
    "        \n",
    "    flag = False\n",
    "    \n",
    "    while True:\n",
    "        for b in ballots:\n",
    "            cast[b.vote()] += 1\n",
    "            \n",
    "        min_opt = None\n",
    "        min_votes = n \n",
    "        for option in cast:\n",
    "            votes = cast[option]\n",
    "            if votes > n/2:\n",
    "                flag = True\n",
    "                break\n",
    "            elif votes < min_votes:\n",
    "                min_opt = option\n",
    "                min_votes = votes\n",
    "        \n",
    "        if flag: break\n",
    "        \n",
    "        for b in ballots:\n",
    "            b.runoff(min_opt)\n",
    "        cast.pop(min_opt)\n",
    "        for i in cast:\n",
    "            cast[i] = 0\n",
    "        \n",
    "    print(\"selected\", names[option])"
   ]
  },
  {
   "cell_type": "code",
   "execution_count": 132,
   "metadata": {},
   "outputs": [
    {
     "name": "stdout",
     "output_type": "stream",
     "text": [
      "selected Once On This Island\n"
     ]
    }
   ],
   "source": [
    "main(fpath)"
   ]
  }
 ],
 "metadata": {
  "kernelspec": {
   "display_name": "Python 3",
   "language": "python",
   "name": "python3"
  },
  "language_info": {
   "codemirror_mode": {
    "name": "ipython",
    "version": 3
   },
   "file_extension": ".py",
   "mimetype": "text/x-python",
   "name": "python",
   "nbconvert_exporter": "python",
   "pygments_lexer": "ipython3",
   "version": "3.8.5"
  }
 },
 "nbformat": 4,
 "nbformat_minor": 4
}
